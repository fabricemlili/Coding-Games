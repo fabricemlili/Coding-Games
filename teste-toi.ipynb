{
 "cells": [
  {
   "cell_type": "code",
   "execution_count": 28,
   "id": "76363de1",
   "metadata": {},
   "outputs": [],
   "source": [
    "def longest_substring_without_repeating_characters(s: str) -> int:\n",
    "    char_index_map = {}\n",
    "    start = 0\n",
    "    len_max = 0\n",
    "\n",
    "    for end in range(len(s)):\n",
    "        if s[end] in char_index_map and char_index_map[s[end]] >= start:\n",
    "            start = char_index_map[s[end]] + 1\n",
    "        print(char_index_map)\n",
    "        # Met à jour l'index du caractère dans le dictionnaire\n",
    "        char_index_map[s[end]] = end\n",
    "        # Calcule la longueur de la fenêtre actuelle\n",
    "        len_max = max(len_max, end - start + 1)\n",
    "\n",
    "    return len_max"
   ]
  },
  {
   "cell_type": "code",
   "execution_count": 29,
   "id": "531a8b46",
   "metadata": {},
   "outputs": [
    {
     "name": "stdout",
     "output_type": "stream",
     "text": [
      "{}\n",
      "{'a': 0}\n",
      "{'a': 0, 'b': 1}\n",
      "{'a': 0, 'b': 1, 'c': 2}\n",
      "{'a': 3, 'b': 1, 'c': 2}\n",
      "{'a': 3, 'b': 4, 'c': 2}\n",
      "{'a': 3, 'b': 4, 'c': 5}\n",
      "{'a': 3, 'b': 6, 'c': 5}\n",
      "✅ Test 1 OK\n",
      "{}\n",
      "{'b': 0}\n",
      "{'b': 1}\n",
      "{'b': 2}\n",
      "{'b': 3}\n",
      "✅ Test 2 OK\n",
      "{}\n",
      "{'p': 0}\n",
      "{'p': 0, 'w': 1}\n",
      "{'p': 0, 'w': 2}\n",
      "{'p': 0, 'w': 2, 'k': 3}\n",
      "{'p': 0, 'w': 2, 'k': 3, 'e': 4}\n",
      "✅ Test 3 OK\n",
      "✅ Test 4 OK\n",
      "{}\n",
      "{'a': 0}\n",
      "{'a': 0, 'b': 1}\n",
      "{'a': 0, 'b': 1, 'c': 2}\n",
      "{'a': 0, 'b': 1, 'c': 2, 'd': 3}\n",
      "{'a': 0, 'b': 1, 'c': 2, 'd': 3, 'e': 4}\n",
      "✅ Test 5 OK\n"
     ]
    }
   ],
   "source": [
    "def run_tests():\n",
    "    test_cases = [\n",
    "        (\"abcabcbb\", 3),\n",
    "        (\"bbbbb\", 1),\n",
    "        (\"pwwkew\", 3),\n",
    "        (\"\", 0),\n",
    "        (\"abcdef\", 6),\n",
    "    ]\n",
    "    \n",
    "    for i, (s, expected) in enumerate(test_cases, 1):\n",
    "        try:\n",
    "            result = longest_substring_without_repeating_characters(s)\n",
    "            assert result == expected, f\"Test {i} échoué : '{s}' → attendu {expected}, obtenu {result}\"\n",
    "            print(f\"✅ Test {i} OK\")\n",
    "        except AssertionError as e:\n",
    "            print(\"❌\", e)\n",
    "        except Exception as e:\n",
    "            print(f\"⚠️ Erreur inattendue dans le test {i} :\", e)\n",
    "run_tests()"
   ]
  },
  {
   "cell_type": "code",
   "execution_count": null,
   "id": "8266fe7c",
   "metadata": {},
   "outputs": [],
   "source": []
  }
 ],
 "metadata": {
  "kernelspec": {
   "display_name": "Python 3",
   "language": "python",
   "name": "python3"
  },
  "language_info": {
   "codemirror_mode": {
    "name": "ipython",
    "version": 3
   },
   "file_extension": ".py",
   "mimetype": "text/x-python",
   "name": "python",
   "nbconvert_exporter": "python",
   "pygments_lexer": "ipython3",
   "version": "3.12.5"
  }
 },
 "nbformat": 4,
 "nbformat_minor": 5
}
