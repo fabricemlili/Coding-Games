{
 "cells": [
  {
   "cell_type": "code",
   "execution_count": 1,
   "id": "22acd1ba",
   "metadata": {},
   "outputs": [],
   "source": [
    "from typing import List\n",
    "def max_treasure(grid: List[List[int]]) -> int:\n",
    "    pass"
   ]
  },
  {
   "cell_type": "code",
   "execution_count": 2,
   "id": "d4a4e1af",
   "metadata": {},
   "outputs": [
    {
     "name": "stdout",
     "output_type": "stream",
     "text": [
      "⚠️ Erreur inattendue dans le test 1 : ❌ Test 1 échoué: attendu 17, obtenu None\n",
      "⚠️ Erreur inattendue dans le test 2 : ❌ Test 2 échoué: attendu 30, obtenu None\n",
      "⚠️ Erreur inattendue dans le test 3 : ❌ Test 3 échoué: attendu 10, obtenu None\n",
      "⚠️ Erreur inattendue dans le test 4 : ❌ Test 4 échoué: attendu 0, obtenu None\n",
      "⚠️ Erreur inattendue dans le test 5 : ❌ Test 5 échoué: attendu 0, obtenu None\n"
     ]
    }
   ],
   "source": [
    "def run_tests():\n",
    "    test_cases = [\n",
    "        # Test 1 : Exemple classique\n",
    "        {\n",
    "            \"input\": [\n",
    "                [1, 3, 1, 5],\n",
    "                [2, 2, 4, 1],\n",
    "                [5, 0, 2, 3],\n",
    "                [0, 6, 1, 2]\n",
    "            ],\n",
    "            \"expected\": 17\n",
    "        },\n",
    "        # Test 2 : Grille avec une seule ligne\n",
    "        {\n",
    "            \"input\": [[10, 20, 30]],\n",
    "            \"expected\": 30\n",
    "        },\n",
    "        # Test 3 : Grille avec une seule colonne\n",
    "        {\n",
    "            \"input\": [\n",
    "                [1],\n",
    "                [2],\n",
    "                [3],\n",
    "                [4]\n",
    "            ],\n",
    "            \"expected\": 10\n",
    "        },\n",
    "        # Test 4 : Grille avec toutes les valeurs à zéro\n",
    "        {\n",
    "            \"input\": [\n",
    "                [0, 0, 0],\n",
    "                [0, 0, 0],\n",
    "                [0, 0, 0]\n",
    "            ],\n",
    "            \"expected\": 0\n",
    "        },\n",
    "        # Test 5 : Grille vide\n",
    "        {\n",
    "            \"input\": [],\n",
    "            \"expected\": 0\n",
    "        }\n",
    "    ]\n",
    "\n",
    "    for i, test in enumerate(test_cases):\n",
    "        try:\n",
    "            result = max_treasure(test[\"input\"])\n",
    "            assert result == test[\"expected\"], f\"❌ Test {i + 1} échoué: attendu {test['expected']}, obtenu {result}\"\n",
    "            print(f\"✅ Test {i + 1} réussi\")\n",
    "        except Exception as e:\n",
    "            print(f\"⚠️ Erreur inattendue dans le test {i + 1} :\", e)\n",
    "\n",
    "# Lancer les tests\n",
    "run_tests()"
   ]
  }
 ],
 "metadata": {
  "kernelspec": {
   "display_name": "Python 3",
   "language": "python",
   "name": "python3"
  },
  "language_info": {
   "codemirror_mode": {
    "name": "ipython",
    "version": 3
   },
   "file_extension": ".py",
   "mimetype": "text/x-python",
   "name": "python",
   "nbconvert_exporter": "python",
   "pygments_lexer": "ipython3",
   "version": "3.12.5"
  }
 },
 "nbformat": 4,
 "nbformat_minor": 5
}
